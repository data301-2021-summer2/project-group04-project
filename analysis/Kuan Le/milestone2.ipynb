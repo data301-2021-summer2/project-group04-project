{
 "cells": [
  {
   "cell_type": "code",
   "execution_count": 3,
   "id": "2db341f4-c21c-4abc-b503-3e6edf15c665",
   "metadata": {},
   "outputs": [],
   "source": [
    "import pandas as pd\n",
    "import seaborn as sns\n",
    "import matplotlib.pyplot as plt\n",
    "from collections import Counter"
   ]
  },
  {
   "cell_type": "code",
   "execution_count": 113,
   "id": "9c6425b4-d025-4cdc-a427-f90781c5569a",
   "metadata": {},
   "outputs": [
    {
     "data": {
      "text/html": [
       "<div>\n",
       "<style scoped>\n",
       "    .dataframe tbody tr th:only-of-type {\n",
       "        vertical-align: middle;\n",
       "    }\n",
       "\n",
       "    .dataframe tbody tr th {\n",
       "        vertical-align: top;\n",
       "    }\n",
       "\n",
       "    .dataframe thead th {\n",
       "        text-align: right;\n",
       "    }\n",
       "</style>\n",
       "<table border=\"1\" class=\"dataframe\">\n",
       "  <thead>\n",
       "    <tr style=\"text-align: right;\">\n",
       "      <th></th>\n",
       "      <th>Type</th>\n",
       "      <th>Title</th>\n",
       "      <th>Director</th>\n",
       "      <th>Cast</th>\n",
       "      <th>Country</th>\n",
       "      <th>Date Added</th>\n",
       "      <th>Release Year</th>\n",
       "      <th>Rating</th>\n",
       "      <th>Duration</th>\n",
       "      <th>Genre</th>\n",
       "      <th>Description</th>\n",
       "    </tr>\n",
       "  </thead>\n",
       "  <tbody>\n",
       "    <tr>\n",
       "      <th>1</th>\n",
       "      <td>Movie</td>\n",
       "      <td>7:19</td>\n",
       "      <td>Jorge Michel Grau</td>\n",
       "      <td>Demián Bichir, Héctor Bonilla, Oscar Serrano, ...</td>\n",
       "      <td>Mexico</td>\n",
       "      <td>2016-12-23</td>\n",
       "      <td>2016</td>\n",
       "      <td>TV-MA</td>\n",
       "      <td>93 min</td>\n",
       "      <td>Dramas, International Movies</td>\n",
       "      <td>After a devastating earthquake hits Mexico Cit...</td>\n",
       "    </tr>\n",
       "    <tr>\n",
       "      <th>2</th>\n",
       "      <td>Movie</td>\n",
       "      <td>23:59</td>\n",
       "      <td>Gilbert Chan</td>\n",
       "      <td>Tedd Chan, Stella Chung, Henley Hii, Lawrence ...</td>\n",
       "      <td>Singapore</td>\n",
       "      <td>2018-12-20</td>\n",
       "      <td>2011</td>\n",
       "      <td>R</td>\n",
       "      <td>78 min</td>\n",
       "      <td>Horror Movies, International Movies</td>\n",
       "      <td>When an army recruit is found dead, his fellow...</td>\n",
       "    </tr>\n",
       "    <tr>\n",
       "      <th>3</th>\n",
       "      <td>Movie</td>\n",
       "      <td>9</td>\n",
       "      <td>Shane Acker</td>\n",
       "      <td>Elijah Wood, John C. Reilly, Jennifer Connelly...</td>\n",
       "      <td>United States</td>\n",
       "      <td>2017-11-16</td>\n",
       "      <td>2009</td>\n",
       "      <td>PG-13</td>\n",
       "      <td>80 min</td>\n",
       "      <td>Action &amp; Adventure, Independent Movies, Sci-Fi...</td>\n",
       "      <td>In a postapocalyptic world, rag-doll robots hi...</td>\n",
       "    </tr>\n",
       "    <tr>\n",
       "      <th>4</th>\n",
       "      <td>Movie</td>\n",
       "      <td>21</td>\n",
       "      <td>Robert Luketic</td>\n",
       "      <td>Jim Sturgess, Kevin Spacey, Kate Bosworth, Aar...</td>\n",
       "      <td>United States</td>\n",
       "      <td>2020-01-01</td>\n",
       "      <td>2008</td>\n",
       "      <td>PG-13</td>\n",
       "      <td>123 min</td>\n",
       "      <td>Dramas</td>\n",
       "      <td>A brilliant group of students become card-coun...</td>\n",
       "    </tr>\n",
       "    <tr>\n",
       "      <th>5</th>\n",
       "      <td>TV Show</td>\n",
       "      <td>46</td>\n",
       "      <td>Serdar Akar</td>\n",
       "      <td>Erdal Beşikçioğlu, Yasemin Allen, Melis Birkan...</td>\n",
       "      <td>Turkey</td>\n",
       "      <td>2017-07-01</td>\n",
       "      <td>2016</td>\n",
       "      <td>TV-MA</td>\n",
       "      <td>1 Season</td>\n",
       "      <td>International TV Shows, TV Dramas, TV Mysteries</td>\n",
       "      <td>A genetics professor experiments with a treatm...</td>\n",
       "    </tr>\n",
       "  </tbody>\n",
       "</table>\n",
       "</div>"
      ],
      "text/plain": [
       "      Type  Title           Director  \\\n",
       "1    Movie   7:19  Jorge Michel Grau   \n",
       "2    Movie  23:59       Gilbert Chan   \n",
       "3    Movie      9        Shane Acker   \n",
       "4    Movie     21     Robert Luketic   \n",
       "5  TV Show     46        Serdar Akar   \n",
       "\n",
       "                                                Cast        Country  \\\n",
       "1  Demián Bichir, Héctor Bonilla, Oscar Serrano, ...         Mexico   \n",
       "2  Tedd Chan, Stella Chung, Henley Hii, Lawrence ...      Singapore   \n",
       "3  Elijah Wood, John C. Reilly, Jennifer Connelly...  United States   \n",
       "4  Jim Sturgess, Kevin Spacey, Kate Bosworth, Aar...  United States   \n",
       "5  Erdal Beşikçioğlu, Yasemin Allen, Melis Birkan...         Turkey   \n",
       "\n",
       "   Date Added  Release Year Rating  Duration  \\\n",
       "1  2016-12-23          2016  TV-MA    93 min   \n",
       "2  2018-12-20          2011      R    78 min   \n",
       "3  2017-11-16          2009  PG-13    80 min   \n",
       "4  2020-01-01          2008  PG-13   123 min   \n",
       "5  2017-07-01          2016  TV-MA  1 Season   \n",
       "\n",
       "                                               Genre  \\\n",
       "1                       Dramas, International Movies   \n",
       "2                Horror Movies, International Movies   \n",
       "3  Action & Adventure, Independent Movies, Sci-Fi...   \n",
       "4                                             Dramas   \n",
       "5    International TV Shows, TV Dramas, TV Mysteries   \n",
       "\n",
       "                                         Description  \n",
       "1  After a devastating earthquake hits Mexico Cit...  \n",
       "2  When an army recruit is found dead, his fellow...  \n",
       "3  In a postapocalyptic world, rag-doll robots hi...  \n",
       "4  A brilliant group of students become card-coun...  \n",
       "5  A genetics professor experiments with a treatm...  "
      ]
     },
     "execution_count": 113,
     "metadata": {},
     "output_type": "execute_result"
    }
   ],
   "source": [
    "rawdata = pd.read_csv(\"../../data/raw/netflix.csv\") #read data\n",
    "rawdata = rawdata.dropna() #drop all null rows\n",
    "del rawdata['show_id'] #delete show id column as not interested\n",
    "rawdata.columns = ['Type','Title','Director','Cast','Country','Date Added','Release Year','Rating','Duration','Genre','Description'] #rename columns\n",
    "rawdata['Date Added'] = pd.to_datetime(rawdata['Date Added']).dt.date #change to date data to compare later on\n",
    "rawdata.head() #print"
   ]
  },
  {
   "cell_type": "code",
   "execution_count": 114,
   "id": "6a466084-313d-4e08-9870-79735d7834ca",
   "metadata": {},
   "outputs": [
    {
     "data": {
      "text/html": [
       "<div>\n",
       "<style scoped>\n",
       "    .dataframe tbody tr th:only-of-type {\n",
       "        vertical-align: middle;\n",
       "    }\n",
       "\n",
       "    .dataframe tbody tr th {\n",
       "        vertical-align: top;\n",
       "    }\n",
       "\n",
       "    .dataframe thead th {\n",
       "        text-align: right;\n",
       "    }\n",
       "</style>\n",
       "<table border=\"1\" class=\"dataframe\">\n",
       "  <thead>\n",
       "    <tr style=\"text-align: right;\">\n",
       "      <th></th>\n",
       "      <th>Type</th>\n",
       "      <th>Title</th>\n",
       "      <th>Director</th>\n",
       "      <th>Cast</th>\n",
       "      <th>Country</th>\n",
       "      <th>Date Added</th>\n",
       "      <th>Release Year</th>\n",
       "      <th>Rating</th>\n",
       "      <th>Duration</th>\n",
       "      <th>Genre</th>\n",
       "      <th>Desctiption</th>\n",
       "    </tr>\n",
       "  </thead>\n",
       "  <tbody>\n",
       "    <tr>\n",
       "      <th>0</th>\n",
       "      <td>Movie</td>\n",
       "      <td>7:19</td>\n",
       "      <td>Jorge Michel Grau</td>\n",
       "      <td>[Demián Bichir, Héctor Bonilla, Oscar Serrano,...</td>\n",
       "      <td>[Mexico]</td>\n",
       "      <td>2016-12-23</td>\n",
       "      <td>2016</td>\n",
       "      <td>TV-MA</td>\n",
       "      <td>93 min</td>\n",
       "      <td>[Dramas, International Movies]</td>\n",
       "      <td>After a devastating earthquake hits Mexico Cit...</td>\n",
       "    </tr>\n",
       "    <tr>\n",
       "      <th>1</th>\n",
       "      <td>Movie</td>\n",
       "      <td>23:59</td>\n",
       "      <td>Gilbert Chan</td>\n",
       "      <td>[Tedd Chan, Stella Chung, Henley Hii, Lawrence...</td>\n",
       "      <td>[Singapore]</td>\n",
       "      <td>2018-12-20</td>\n",
       "      <td>2011</td>\n",
       "      <td>R</td>\n",
       "      <td>78 min</td>\n",
       "      <td>[Horror Movies, International Movies]</td>\n",
       "      <td>When an army recruit is found dead, his fellow...</td>\n",
       "    </tr>\n",
       "    <tr>\n",
       "      <th>2</th>\n",
       "      <td>Movie</td>\n",
       "      <td>9</td>\n",
       "      <td>Shane Acker</td>\n",
       "      <td>[Elijah Wood, John C. Reilly, Jennifer Connell...</td>\n",
       "      <td>[United States]</td>\n",
       "      <td>2017-11-16</td>\n",
       "      <td>2009</td>\n",
       "      <td>PG-13</td>\n",
       "      <td>80 min</td>\n",
       "      <td>[Action &amp; Adventure, Independent Movies, Sci-F...</td>\n",
       "      <td>In a postapocalyptic world, rag-doll robots hi...</td>\n",
       "    </tr>\n",
       "    <tr>\n",
       "      <th>3</th>\n",
       "      <td>Movie</td>\n",
       "      <td>21</td>\n",
       "      <td>Robert Luketic</td>\n",
       "      <td>[Jim Sturgess, Kevin Spacey, Kate Bosworth, Aa...</td>\n",
       "      <td>[United States]</td>\n",
       "      <td>2020-01-01</td>\n",
       "      <td>2008</td>\n",
       "      <td>PG-13</td>\n",
       "      <td>123 min</td>\n",
       "      <td>[Dramas]</td>\n",
       "      <td>A brilliant group of students become card-coun...</td>\n",
       "    </tr>\n",
       "    <tr>\n",
       "      <th>4</th>\n",
       "      <td>TV Show</td>\n",
       "      <td>46</td>\n",
       "      <td>Serdar Akar</td>\n",
       "      <td>[Erdal Beşikçioğlu, Yasemin Allen, Melis Birka...</td>\n",
       "      <td>[Turkey]</td>\n",
       "      <td>2017-07-01</td>\n",
       "      <td>2016</td>\n",
       "      <td>TV-MA</td>\n",
       "      <td>1 Season</td>\n",
       "      <td>[International TV Shows, TV Dramas, TV Mysteries]</td>\n",
       "      <td>A genetics professor experiments with a treatm...</td>\n",
       "    </tr>\n",
       "  </tbody>\n",
       "</table>\n",
       "</div>"
      ],
      "text/plain": [
       "      Type  Title           Director  \\\n",
       "0    Movie   7:19  Jorge Michel Grau   \n",
       "1    Movie  23:59       Gilbert Chan   \n",
       "2    Movie      9        Shane Acker   \n",
       "3    Movie     21     Robert Luketic   \n",
       "4  TV Show     46        Serdar Akar   \n",
       "\n",
       "                                                Cast          Country  \\\n",
       "0  [Demián Bichir, Héctor Bonilla, Oscar Serrano,...         [Mexico]   \n",
       "1  [Tedd Chan, Stella Chung, Henley Hii, Lawrence...      [Singapore]   \n",
       "2  [Elijah Wood, John C. Reilly, Jennifer Connell...  [United States]   \n",
       "3  [Jim Sturgess, Kevin Spacey, Kate Bosworth, Aa...  [United States]   \n",
       "4  [Erdal Beşikçioğlu, Yasemin Allen, Melis Birka...         [Turkey]   \n",
       "\n",
       "   Date Added  Release Year Rating  Duration  \\\n",
       "0  2016-12-23          2016  TV-MA    93 min   \n",
       "1  2018-12-20          2011      R    78 min   \n",
       "2  2017-11-16          2009  PG-13    80 min   \n",
       "3  2020-01-01          2008  PG-13   123 min   \n",
       "4  2017-07-01          2016  TV-MA  1 Season   \n",
       "\n",
       "                                               Genre  \\\n",
       "0                     [Dramas, International Movies]   \n",
       "1              [Horror Movies, International Movies]   \n",
       "2  [Action & Adventure, Independent Movies, Sci-F...   \n",
       "3                                           [Dramas]   \n",
       "4  [International TV Shows, TV Dramas, TV Mysteries]   \n",
       "\n",
       "                                         Desctiption  \n",
       "0  After a devastating earthquake hits Mexico Cit...  \n",
       "1  When an army recruit is found dead, his fellow...  \n",
       "2  In a postapocalyptic world, rag-doll robots hi...  \n",
       "3  A brilliant group of students become card-coun...  \n",
       "4  A genetics professor experiments with a treatm...  "
      ]
     },
     "execution_count": 114,
     "metadata": {},
     "output_type": "execute_result"
    }
   ],
   "source": [
    "from scripts import project_functions\n",
    "df = project_functions.load_and_process(\"../../data/raw/netflix.csv\")\n",
    "df.head()"
   ]
  },
  {
   "cell_type": "code",
   "execution_count": 120,
   "id": "aadbbb1e-5af0-4d7e-a64c-1bfc107eb2c6",
   "metadata": {},
   "outputs": [],
   "source": [
    "#sns.countplot(y = 'Country', data = df, order = df['Country'].value_counts().iloc[:10].index).set(title = \"Country Released\")\n",
    "temp = Counter()\n",
    "temp1 = dict()\n",
    "for genre in df['Genre']:\n",
    "    temp += Counter(genre)\n",
    "for name, values in temp.items():\n",
    "    if(values < df.shape[0]*0.1):\n",
    "        if(\"other\" in temp1):\n",
    "            temp1[\"other\"] += values\n",
    "        else:\n",
    "            temp1[\"other\"] = values\n",
    "    else:\n",
    "        temp1[name] = values"
   ]
  },
  {
   "cell_type": "code",
   "execution_count": 86,
   "id": "78237cf4-eb05-45c2-b9bc-b0638f373d8b",
   "metadata": {
    "tags": []
   },
   "outputs": [
    {
     "data": {
      "image/png": "[encoded data removed]",
      "text/plain": [
       "<Figure size 432x288 with 1 Axes>"
      ]
     },
     "metadata": {},
     "output_type": "display_data"
    }
   ],
   "source": [
    "plt.pie(x = [v for name, v in temp1.items()], autopct = None)\n",
    "plt.legend(list(temp1.keys()), bbox_to_anchor = [0,0,0,1])\n",
    "plt.title(\"Most popular Genres on Netflix\", size = 20)\n",
    "plt.show()"
   ]
  },
  {
   "cell_type": "code",
   "execution_count": 4,
   "id": "e61355c3-4b04-448c-bb28-964c6b47335d",
   "metadata": {},
   "outputs": [
    {
     "name": "stdout",
     "output_type": "stream",
     "text": [
      "What're the leading genres of Netflix movies?\n",
      "We can clearly see that most popular Genres of films on Netflix is International Movies, Dramas and Comedies. They take up almost 75% of all movies on Netflix\n"
     ]
    }
   ],
   "source": [
    "print(\"What're the leading genres of Netflix movies?\")\n",
    "print(\"We can clearly see that most popular Genres of films on Netflix is International Movies, Dramas and Comedies. They take up almost 75% of all movies on Netflix\")"
   ]
  },
  {
   "cell_type": "code",
   "execution_count": 122,
   "id": "29845322-76ff-4cb9-a27a-1b82e75965bc",
   "metadata": {},
   "outputs": [],
   "source": [
    "temp.clear()\n",
    "temp1.clear()\n",
    "for countries in df['Country']:\n",
    "    temp += Counter(countries)\n",
    "for name, values in temp.items():\n",
    "    if(values < df.shape[0]*0.02):\n",
    "        if(\"other\" in temp1):\n",
    "            temp1[\"other\"] += values\n",
    "        else:\n",
    "            temp1[\"other\"] = values\n",
    "    else:\n",
    "        temp1[name] = values"
   ]
  },
  {
   "cell_type": "code",
   "execution_count": 123,
   "id": "5882d5e9-46bd-44c2-a91d-39a81e13f1a7",
   "metadata": {},
   "outputs": [
    {
     "data": {
      "image/png": "[encoded data removed]",
      "text/plain": [
       "<Figure size 432x288 with 1 Axes>"
      ]
     },
     "metadata": {},
     "output_type": "display_data"
    }
   ],
   "source": [
    "plt.pie(x = [v for name, v in temp1.items()], autopct = None)\n",
    "plt.legend(list(temp1.keys()), bbox_to_anchor = [0,0,0,1])\n",
    "plt.title(\"Popular Countries producing movies from Netflix\", size = 20)\n",
    "plt.show()"
   ]
  },
  {
   "cell_type": "code",
   "execution_count": 5,
   "id": "9314e66a-ee3f-4873-a0b7-39aa23944257",
   "metadata": {},
   "outputs": [
    {
     "name": "stdout",
     "output_type": "stream",
     "text": [
      "Which Countries produce the most films available on Netflix?\n",
      "United States comes first in the production of Netflix films while India comes second. They both take up to 1/4 of the whole pie chart each.\n"
     ]
    }
   ],
   "source": [
    "print(\"Which Countries produce the most films available on Netflix?\")\n",
    "print(\"United States comes first in the production of Netflix films while India comes second. They both take up to 1/4 of the whole pie chart each.\")"
   ]
  },
  {
   "cell_type": "code",
   "execution_count": 126,
   "id": "feab975b-7d68-4fff-a113-d0ce546770ca",
   "metadata": {},
   "outputs": [
    {
     "data": {
      "image/png": "[encoded data removed]",
      "text/plain": [
       "<Figure size 432x288 with 1 Axes>"
      ]
     },
     "metadata": {
      "needs_background": "light"
     },
     "output_type": "display_data"
    }
   ],
   "source": [
    "sns.countplot(data=df, y = 'Director', order = df['Director'].value_counts().iloc[:10].index).set(title = \"Popular Directors on Netflix\", xlabel = \"Number of movies\")\n",
    "plt.show()"
   ]
  },
  {
   "cell_type": "code",
   "execution_count": 3,
   "id": "d01bc511-29cf-4f51-b952-0fd92524d136",
   "metadata": {},
   "outputs": [
    {
     "name": "stdout",
     "output_type": "stream",
     "text": [
      "What director is the best in Netflix?\n",
      "Here is a visual of which Directors have the most films featured on Netflix. It is clear that Rausl Campos and Jan Suter are the most popular directors on Netflix.\n"
     ]
    }
   ],
   "source": [
    "print(\"What director is the best in Netflix?\")\n",
    "print(\"Here is a visual of which Directors have the most films featured on Netflix. It is clear that Rausl Campos and Jan Suter are the most popular directors on Netflix.\")"
   ]
  },
  {
   "cell_type": "code",
   "execution_count": null,
   "id": "697ac22f-9638-445a-ba24-f6f82561e42b",
   "metadata": {},
   "outputs": [],
   "source": []
  }
 ],
 "metadata": {
  "kernelspec": {
   "display_name": "Python 3 (ipykernel)",
   "language": "python",
   "name": "python3"
  },
  "language_info": {
   "codemirror_mode": {
    "name": "ipython",
    "version": 3
   },
   "file_extension": ".py",
   "mimetype": "text/x-python",
   "name": "python",
   "nbconvert_exporter": "python",
   "pygments_lexer": "ipython3",
   "version": "3.8.5"
  }
 },
 "nbformat": 4,
 "nbformat_minor": 5
}
